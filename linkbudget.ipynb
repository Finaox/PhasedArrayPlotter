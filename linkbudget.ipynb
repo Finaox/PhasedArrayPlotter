{
 "cells": [
  {
   "cell_type": "code",
   "execution_count": 14,
   "metadata": {},
   "outputs": [
    {
     "data": {
      "text/plain": [
       "148.00479719372154"
      ]
     },
     "execution_count": 14,
     "metadata": {},
     "output_type": "execute_result"
    }
   ],
   "source": [
    "import numpy as np\n",
    "\n",
    "# Constants\n",
    "LIGHT_SPEED = 3e8  # Speed of light in m/s\n",
    "\n",
    "def FSPL(distance, frequency):\n",
    "    \"\"\"\n",
    "    Calculate the free space path loss (FSPL).\n",
    "    \n",
    "    Parameters:\n",
    "    - distance: Distance from transmitter to receiver in kilometers\n",
    "    - frequency: Frequency of the signal in GHz\n",
    "    \n",
    "    Returns:\n",
    "    - fspl: Free space path loss in dB\n",
    "    \"\"\"\n",
    "    frequency=frequency*1e9\n",
    "    distance=distance*1e3\n",
    "    wavelength = LIGHT_SPEED / frequency\n",
    "    fspl = (4 * np.pi * distance / wavelength) ** 2\n",
    "    fspl_db = 10 * np.log10(fspl)\n",
    "    return fspl_db\n",
    "\n",
    "FSPL(20,30)\n",
    "\n"
   ]
  },
  {
   "cell_type": "code",
   "execution_count": 7,
   "metadata": {},
   "outputs": [
    {
     "data": {
      "image/png": "[encoded data removed]",
      "text/plain": [
       "<Figure size 1080x288 with 1 Axes>"
      ]
     },
     "metadata": {
      "needs_background": "light"
     },
     "output_type": "display_data"
    }
   ],
   "source": [
    "import matplotlib.pyplot as plt\n",
    "import numpy as np\n",
    "\n",
    "# Define the parameters for the plot based on the provided image\n",
    "# tx_power = 51.32  # Example Tx Power in dBm\n",
    "# eirp = 20  # Example EIRP in dBm\n",
    "tx_eirp = 51.32\n",
    "rx_sensitivity = -100  # Example Rx Sensitivity in dBm\n",
    "margin = 10  # Example Margin in dB\n",
    "rx_power = rx_sensitivity + margin  # Calculated Rx Power in dBm\n",
    "\n",
    "# Define the distances for each segment based on the provided image\n",
    "d1 = 1  # Distance before EIRP drop\n",
    "d2 = 3  # Distance after EIRP drop to before Rx Power rise\n",
    "d3 = 1  # Distance after Rx Power rise\n",
    "\n",
    "# Define the distances array\n",
    "# distances = np.array([0, d1, d1, d1 + d2, d1 + d2, d1 + d2 + d3])\n",
    "distances = np.array([0, d1, d1, d1 + d2, d1 + d2, d1 + d2 + d3])\n",
    "\n",
    "# Define the power levels corresponding to the distances\n",
    "power_levels = np.array([tx_power, tx_power, eirp, eirp, rx_power, rx_power])\n",
    "\n",
    "# Plot the link budget graph\n",
    "plt.figure(figsize=(15, 4))\n",
    "plt.plot(distances, power_levels, drawstyle='steps-post', color='red')\n",
    "\n",
    "# Add annotations for Tx Power and Rx Sensitivity\n",
    "# plt.text(0, tx_power, 'Tx Power', verticalalignment='bottom', horizontalalignment='center')\n",
    "# plt.text(distances[-1], rx_sensitivity, 'Rx Sensitivity', verticalalignment='bottom', horizontalalignment='right')\n",
    "# plt.text(distances[-1], rx_power, 'Rx Power', verticalalignment='bottom', horizontalalignment='right')\n",
    "# plt.text(distances[-1], rx_power + margin, 'Margin', verticalalignment='bottom', horizontalalignment='right')\n",
    "\n",
    "# Add arrows\n",
    "# plt.annotate('', xy=(d1, tx_power), xytext=(d1, eirp),\n",
    "#              arrowprops=dict(arrowstyle=\"<->\", color='green'))\n",
    "# plt.annotate('', xy=(d1 + d2, eirp), xytext=(d1 + d2, rx_power),\n",
    "#              arrowprops=dict(arrowstyle=\"<->\", color='green'))\n",
    "\n",
    "# Set the y-axis to show the dBm scale\n",
    "plt.ylabel('dBm')\n",
    "\n",
    "# Set the x-axis to show the distance scale\n",
    "plt.xlabel('distance')\n",
    "\n",
    "# Set the title of the plot\n",
    "plt.title('Link Budget')\n",
    "\n",
    "# Display the plot\n",
    "plt.show()\n"
   ]
  },
  {
   "cell_type": "code",
   "execution_count": 38,
   "metadata": {},
   "outputs": [
    {
     "name": "stdout",
     "output_type": "stream",
     "text": [
      "Required SNR (dB): -2.4044831879476183\n"
     ]
    }
   ],
   "source": [
    "import numpy as np\n",
    "import math\n",
    "\n",
    "def calculate_snr(data_rate, bandwidth, packet_size, per):\n",
    "    # Calculate the Shannon Limit\n",
    "    snr_shannon = (2 ** (data_rate / bandwidth)) - 1\n",
    "\n",
    "    # Approximate BER from PER\n",
    "    bits_per_packet = packet_size * 8  # Convert packet size from bytes to bits\n",
    "    ber = 1 - (1 - per) ** (1 / bits_per_packet)\n",
    "\n",
    "    # Adjust SNR based on BER (this part is quite simplified and may vary in real scenarios)\n",
    "    snr_adjusted = math.log10(snr_shannon * (ber * 100))  # This adjustment factor is a placeholder\n",
    "    \n",
    "    return snr_adjusted\n",
    "\n",
    "# Example Usage\n",
    "data_rate = 10e6  # 10 Mbps\n",
    "bandwidth = 5.12e6   # 5 MHz\n",
    "packet_size = 7680/8 \n",
    "per = 0.1        # 1% Packet Error Rate\n",
    "\n",
    "required_snr = calculate_snr(data_rate, bandwidth, packet_size, per)\n",
    "print(\"Required SNR (dB):\", required_snr)\n"
   ]
  }
 ],
 "metadata": {
  "kernelspec": {
   "display_name": "Python 3",
   "language": "python",
   "name": "python3"
  },
  "language_info": {
   "codemirror_mode": {
    "name": "ipython",
    "version": 3
   },
   "file_extension": ".py",
   "mimetype": "text/x-python",
   "name": "python",
   "nbconvert_exporter": "python",
   "pygments_lexer": "ipython3",
   "version": "3.9.13"
  }
 },
 "nbformat": 4,
 "nbformat_minor": 2
}
